{
  "cells": [
    {
      "cell_type": "markdown",
      "metadata": {
        "id": "view-in-github",
        "colab_type": "text"
      },
      "source": [
        "<a href=\"https://colab.research.google.com/github/tuetkwanwing/DS701-Tools-for-Data-Science/blob/main/hw0.ipynb\" target=\"_parent\"><img src=\"https://colab.research.google.com/assets/colab-badge.svg\" alt=\"Open In Colab\"/></a>"
      ]
    },
    {
      "cell_type": "markdown",
      "id": "eca2fd03-603b-4849-961d-1755e2c6fb8e",
      "metadata": {
        "id": "eca2fd03-603b-4849-961d-1755e2c6fb8e"
      },
      "source": [
        "# Homework 0"
      ]
    },
    {
      "cell_type": "markdown",
      "id": "24437712-aa13-45d3-875b-1e23e674cf3e",
      "metadata": {
        "id": "24437712-aa13-45d3-875b-1e23e674cf3e"
      },
      "source": [
        "## Checking environment\n",
        "\n",
        "If your environment is setup correctly, you should run the cell below with no error:"
      ]
    },
    {
      "cell_type": "code",
      "execution_count": 3,
      "id": "29cc837e-3bd2-4534-937f-b16b88657ad1",
      "metadata": {
        "id": "29cc837e-3bd2-4534-937f-b16b88657ad1"
      },
      "outputs": [],
      "source": [
        "import numpy as np\n",
        "import pandas as pd\n",
        "import matplotlib.pyplot as plt\n",
        "import sklearn\n",
        "import networkx\n",
        "import umap"
      ]
    },
    {
      "cell_type": "code",
      "execution_count": 2,
      "id": "2d46daec-9c35-43a3-9b79-15cb75389b29",
      "metadata": {
        "colab": {
          "base_uri": "https://localhost:8080/"
        },
        "id": "2d46daec-9c35-43a3-9b79-15cb75389b29",
        "outputId": "64280432-9496-4fd9-cca3-ba5a4fae70f5"
      },
      "outputs": [
        {
          "output_type": "stream",
          "name": "stdout",
          "text": [
            "Collecting umap-learn\n",
            "  Downloading umap-learn-0.5.4.tar.gz (90 kB)\n",
            "\u001b[2K     \u001b[90m━━━━━━━━━━━━━━━━━━━━━━━━━━━━━━━━━━━━━━━━\u001b[0m \u001b[32m90.8/90.8 kB\u001b[0m \u001b[31m2.0 MB/s\u001b[0m eta \u001b[36m0:00:00\u001b[0m\n",
            "\u001b[?25h  Preparing metadata (setup.py) ... \u001b[?25l\u001b[?25hdone\n",
            "Requirement already satisfied: numpy>=1.17 in /usr/local/lib/python3.10/dist-packages (from umap-learn) (1.23.5)\n",
            "Requirement already satisfied: scipy>=1.3.1 in /usr/local/lib/python3.10/dist-packages (from umap-learn) (1.11.2)\n",
            "Requirement already satisfied: scikit-learn>=0.22 in /usr/local/lib/python3.10/dist-packages (from umap-learn) (1.2.2)\n",
            "Requirement already satisfied: numba>=0.51.2 in /usr/local/lib/python3.10/dist-packages (from umap-learn) (0.56.4)\n",
            "Collecting pynndescent>=0.5 (from umap-learn)\n",
            "  Downloading pynndescent-0.5.10.tar.gz (1.1 MB)\n",
            "\u001b[2K     \u001b[90m━━━━━━━━━━━━━━━━━━━━━━━━━━━━━━━━━━━━━━━━\u001b[0m \u001b[32m1.1/1.1 MB\u001b[0m \u001b[31m22.8 MB/s\u001b[0m eta \u001b[36m0:00:00\u001b[0m\n",
            "\u001b[?25h  Preparing metadata (setup.py) ... \u001b[?25l\u001b[?25hdone\n",
            "Requirement already satisfied: tqdm in /usr/local/lib/python3.10/dist-packages (from umap-learn) (4.66.1)\n",
            "Requirement already satisfied: tbb>=2019.0 in /usr/local/lib/python3.10/dist-packages (from umap-learn) (2021.10.0)\n",
            "Requirement already satisfied: llvmlite<0.40,>=0.39.0dev0 in /usr/local/lib/python3.10/dist-packages (from numba>=0.51.2->umap-learn) (0.39.1)\n",
            "Requirement already satisfied: setuptools in /usr/local/lib/python3.10/dist-packages (from numba>=0.51.2->umap-learn) (67.7.2)\n",
            "Requirement already satisfied: joblib>=0.11 in /usr/local/lib/python3.10/dist-packages (from pynndescent>=0.5->umap-learn) (1.3.2)\n",
            "Requirement already satisfied: threadpoolctl>=2.0.0 in /usr/local/lib/python3.10/dist-packages (from scikit-learn>=0.22->umap-learn) (3.2.0)\n",
            "Building wheels for collected packages: umap-learn, pynndescent\n",
            "  Building wheel for umap-learn (setup.py) ... \u001b[?25l\u001b[?25hdone\n",
            "  Created wheel for umap-learn: filename=umap_learn-0.5.4-py3-none-any.whl size=86770 sha256=de3cb95c2c597f3bcf8f1c4ae106060b74f048005b777e1d6119de4a892b37f3\n",
            "  Stored in directory: /root/.cache/pip/wheels/fb/66/29/199acf5784d0f7b8add6d466175ab45506c96e386ed5dd0633\n",
            "  Building wheel for pynndescent (setup.py) ... \u001b[?25l\u001b[?25hdone\n",
            "  Created wheel for pynndescent: filename=pynndescent-0.5.10-py3-none-any.whl size=55615 sha256=a111d3d2350fb67a83b304ab902c9e8e63231fb6e4bf2128f5470affa7e30885\n",
            "  Stored in directory: /root/.cache/pip/wheels/4a/38/5d/f60a40a66a9512b7e5e83517ebc2d1b42d857be97d135f1096\n",
            "Successfully built umap-learn pynndescent\n",
            "Installing collected packages: pynndescent, umap-learn\n",
            "Successfully installed pynndescent-0.5.10 umap-learn-0.5.4\n"
          ]
        }
      ],
      "source": [
        "pip install umap-learn"
      ]
    },
    {
      "cell_type": "markdown",
      "id": "1a082d62-ff7c-4efd-acc1-faab63ee1572",
      "metadata": {
        "id": "1a082d62-ff7c-4efd-acc1-faab63ee1572"
      },
      "source": [
        "## Checking Python\n",
        "\n",
        "Change the information in the cell below to your *name* and *favorite pet*. Then, print both variables."
      ]
    },
    {
      "cell_type": "code",
      "execution_count": 4,
      "id": "c37d0f30-f460-492b-916f-b31c9fee7b57",
      "metadata": {
        "id": "c37d0f30-f460-492b-916f-b31c9fee7b57"
      },
      "outputs": [],
      "source": [
        "name = \"Kwan Wing TUET\"\n",
        "favorite_pet = \"puppy\""
      ]
    },
    {
      "cell_type": "code",
      "execution_count": 5,
      "id": "a3892721-09b5-4fbf-a4d5-0b6e485db154",
      "metadata": {
        "colab": {
          "base_uri": "https://localhost:8080/"
        },
        "id": "a3892721-09b5-4fbf-a4d5-0b6e485db154",
        "outputId": "d22cc670-385a-40b2-d0af-83268d8b9221"
      },
      "outputs": [
        {
          "output_type": "stream",
          "name": "stdout",
          "text": [
            "Name: Kwan Wing TUET\n"
          ]
        }
      ],
      "source": [
        "print(f\"Name: {name}\")"
      ]
    },
    {
      "cell_type": "code",
      "execution_count": 6,
      "id": "162097e0-1d55-4411-ba6e-604101cbf8cf",
      "metadata": {
        "colab": {
          "base_uri": "https://localhost:8080/"
        },
        "id": "162097e0-1d55-4411-ba6e-604101cbf8cf",
        "outputId": "737ed151-0fdf-4d5c-c9b8-7dc7d5f3098f"
      },
      "outputs": [
        {
          "output_type": "stream",
          "name": "stdout",
          "text": [
            "Favorite pet: puppy\n"
          ]
        }
      ],
      "source": [
        "print(f\"Favorite pet: {favorite_pet}\")"
      ]
    },
    {
      "cell_type": "code",
      "source": [],
      "metadata": {
        "id": "zRvqQWCZzK6g"
      },
      "id": "zRvqQWCZzK6g",
      "execution_count": null,
      "outputs": []
    }
  ],
  "metadata": {
    "kernelspec": {
      "display_name": "Python 3 (ipykernel)",
      "language": "python",
      "name": "python3"
    },
    "language_info": {
      "codemirror_mode": {
        "name": "ipython",
        "version": 3
      },
      "file_extension": ".py",
      "mimetype": "text/x-python",
      "name": "python",
      "nbconvert_exporter": "python",
      "pygments_lexer": "ipython3",
      "version": "3.9.12"
    },
    "colab": {
      "provenance": [],
      "include_colab_link": true
    }
  },
  "nbformat": 4,
  "nbformat_minor": 5
}